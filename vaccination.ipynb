{
  "nbformat": 4,
  "nbformat_minor": 0,
  "metadata": {
    "colab": {
      "provenance": [],
      "authorship_tag": "ABX9TyPjcvKTFQrQTFtE8UdIAex2",
      "include_colab_link": true
    },
    "kernelspec": {
      "name": "ir",
      "display_name": "R"
    },
    "language_info": {
      "name": "R"
    }
  },
  "cells": [
    {
      "cell_type": "markdown",
      "metadata": {
        "id": "view-in-github",
        "colab_type": "text"
      },
      "source": [
        "<a href=\"https://colab.research.google.com/github/Kiron-Ang/CSI2300/blob/main/vaccination.ipynb\" target=\"_parent\"><img src=\"https://colab.research.google.com/assets/colab-badge.svg\" alt=\"Open In Colab\"/></a>"
      ]
    },
    {
      "cell_type": "code",
      "execution_count": 11,
      "metadata": {
        "colab": {
          "base_uri": "https://localhost:8080/",
          "height": 34
        },
        "id": "CGwuTZA5mKNd",
        "outputId": "f4cee073-62f3-41ed-b086-bdd19d19d7a0"
      },
      "outputs": [
        {
          "output_type": "display_data",
          "data": {
            "text/html": [
              "'R version 4.4.1 (2024-06-14)'"
            ],
            "text/markdown": "'R version 4.4.1 (2024-06-14)'",
            "text/latex": "'R version 4.4.1 (2024-06-14)'",
            "text/plain": [
              "[1] \"R version 4.4.1 (2024-06-14)\""
            ]
          },
          "metadata": {}
        }
      ],
      "source": [
        "R.version.string"
      ]
    },
    {
      "cell_type": "code",
      "source": [
        "data = read.csv(\"Vaccination_Coverage_among_Adolescents__13-17_Years__20241009.csv\")\n",
        "unique(data$Vaccine.Sample)"
      ],
      "metadata": {
        "colab": {
          "base_uri": "https://localhost:8080/",
          "height": 34
        },
        "id": "NSG2uA7jp1rj",
        "outputId": "4f42c759-d976-4445-de35-4357705e066d"
      },
      "execution_count": 13,
      "outputs": [
        {
          "output_type": "display_data",
          "data": {
            "text/html": [
              "<style>\n",
              ".list-inline {list-style: none; margin:0; padding: 0}\n",
              ".list-inline>li {display: inline-block}\n",
              ".list-inline>li:not(:last-child)::after {content: \"\\00b7\"; padding: 0 .5ex}\n",
              "</style>\n",
              "<ol class=list-inline><li>'HPV'</li><li>'Tetanus'</li><li>'≥1 Dose MenACWY'</li><li>'≥3 Doses HepB'</li><li>'≥2 Doses MMR'</li><li>'Varicella'</li><li>'≥2 Doses Hep A'</li></ol>\n"
            ],
            "text/markdown": "1. 'HPV'\n2. 'Tetanus'\n3. '≥1 Dose MenACWY'\n4. '≥3 Doses HepB'\n5. '≥2 Doses MMR'\n6. 'Varicella'\n7. '≥2 Doses Hep A'\n\n\n",
            "text/latex": "\\begin{enumerate*}\n\\item 'HPV'\n\\item 'Tetanus'\n\\item '≥1 Dose MenACWY'\n\\item '≥3 Doses HepB'\n\\item '≥2 Doses MMR'\n\\item 'Varicella'\n\\item '≥2 Doses Hep A'\n\\end{enumerate*}\n",
            "text/plain": [
              "[1] \"HPV\"             \"Tetanus\"         \"≥1 Dose MenACWY\" \"≥3 Doses HepB\"  \n",
              "[5] \"≥2 Doses MMR\"    \"Varicella\"       \"≥2 Doses Hep A\" "
            ]
          },
          "metadata": {}
        }
      ]
    }
  ]
}