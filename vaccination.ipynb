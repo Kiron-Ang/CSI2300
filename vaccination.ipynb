{
  "nbformat": 4,
  "nbformat_minor": 0,
  "metadata": {
    "colab": {
      "provenance": [],
      "authorship_tag": "ABX9TyPQkHAsSmqc/RwmJQyXkdT8",
      "include_colab_link": true
    },
    "kernelspec": {
      "name": "ir",
      "display_name": "R"
    },
    "language_info": {
      "name": "R"
    }
  },
  "cells": [
    {
      "cell_type": "markdown",
      "metadata": {
        "id": "view-in-github",
        "colab_type": "text"
      },
      "source": [
        "<a href=\"https://colab.research.google.com/github/Kiron-Ang/CSI2300/blob/main/vaccination.ipynb\" target=\"_parent\"><img src=\"https://colab.research.google.com/assets/colab-badge.svg\" alt=\"Open In Colab\"/></a>"
      ]
    },
    {
      "cell_type": "code",
      "execution_count": 1,
      "metadata": {
        "colab": {
          "base_uri": "https://localhost:8080/",
          "height": 34
        },
        "id": "CGwuTZA5mKNd",
        "outputId": "11e812dd-cd43-4b6f-cd23-0dcc80a6de49"
      },
      "outputs": [
        {
          "output_type": "display_data",
          "data": {
            "text/html": [
              "'R version 4.4.1 (2024-06-14)'"
            ],
            "text/markdown": "'R version 4.4.1 (2024-06-14)'",
            "text/latex": "'R version 4.4.1 (2024-06-14)'",
            "text/plain": [
              "[1] \"R version 4.4.1 (2024-06-14)\""
            ]
          },
          "metadata": {}
        }
      ],
      "source": [
        "# Print R version\n",
        "R.version.string"
      ]
    },
    {
      "cell_type": "code",
      "source": [
        "# Read data using the API: dev.socrata.com/foundry/data.cdc.gov/ee48-w5t6\n",
        "# Link to CDC website with information on the dataset:\n",
        "# data.cdc.gov/Teen-Vaccinations/Vaccination-Coverage-among-Adolescents-13-17-Years/ee48-w5t6\n",
        "\n",
        "# First install the RSocrata library\n",
        "install.packages(\"RSocrata\")"
      ],
      "metadata": {
        "colab": {
          "base_uri": "https://localhost:8080/"
        },
        "id": "NSG2uA7jp1rj",
        "outputId": "6bb7c7ef-222e-4fb3-9088-17b6ed3de26f"
      },
      "execution_count": 2,
      "outputs": [
        {
          "output_type": "stream",
          "name": "stderr",
          "text": [
            "Installing package into ‘/usr/local/lib/R/site-library’\n",
            "(as ‘lib’ is unspecified)\n",
            "\n",
            "also installing the dependency ‘plyr’\n",
            "\n",
            "\n"
          ]
        }
      ]
    },
    {
      "cell_type": "code",
      "source": [
        "library(\"RSocrata\")\n",
        "data = read.socrata(\"https://data.cdc.gov/resource/ee48-w5t6.json\")\n",
        "dim(data)\n",
        "head(data)"
      ],
      "metadata": {
        "colab": {
          "base_uri": "https://localhost:8080/",
          "height": 303
        },
        "id": "6MTcOCOgfykg",
        "outputId": "ded16b82-9fd4-49d9-aa96-330deb268d62"
      },
      "execution_count": 8,
      "outputs": [
        {
          "output_type": "display_data",
          "data": {
            "text/html": [
              "<style>\n",
              ".list-inline {list-style: none; margin:0; padding: 0}\n",
              ".list-inline>li {display: inline-block}\n",
              ".list-inline>li:not(:last-child)::after {content: \"\\00b7\"; padding: 0 .5ex}\n",
              "</style>\n",
              "<ol class=list-inline><li>27565</li><li>10</li></ol>\n"
            ],
            "text/markdown": "1. 27565\n2. 10\n\n\n",
            "text/latex": "\\begin{enumerate*}\n\\item 27565\n\\item 10\n\\end{enumerate*}\n",
            "text/plain": [
              "[1] 27565    10"
            ]
          },
          "metadata": {}
        },
        {
          "output_type": "display_data",
          "data": {
            "text/html": [
              "<table class=\"dataframe\">\n",
              "<caption>A data.frame: 6 × 10</caption>\n",
              "<thead>\n",
              "\t<tr><th></th><th scope=col>vaccine</th><th scope=col>dose</th><th scope=col>geography_type</th><th scope=col>geography</th><th scope=col>year_season</th><th scope=col>dimension_type</th><th scope=col>dimension</th><th scope=col>coverage_estimate</th><th scope=col>X_95_ci</th><th scope=col>population_sample_size</th></tr>\n",
              "\t<tr><th></th><th scope=col>&lt;chr&gt;</th><th scope=col>&lt;chr&gt;</th><th scope=col>&lt;chr&gt;</th><th scope=col>&lt;chr&gt;</th><th scope=col>&lt;chr&gt;</th><th scope=col>&lt;chr&gt;</th><th scope=col>&lt;chr&gt;</th><th scope=col>&lt;chr&gt;</th><th scope=col>&lt;chr&gt;</th><th scope=col>&lt;chr&gt;</th></tr>\n",
              "</thead>\n",
              "<tbody>\n",
              "\t<tr><th scope=row>1</th><td>HPV            </td><td>≥1 Dose, Males            </td><td>States/Local Areas</td><td>New York</td><td>2023</td><td>Age</td><td>13-17 Years</td><td>81.5</td><td>75.2 to 86.5</td><td>289</td></tr>\n",
              "\t<tr><th scope=row>2</th><td>Tetanus        </td><td>≥1 Dose Tdap              </td><td>States/Local Areas</td><td>New York</td><td>2023</td><td>Age</td><td>13-17 Years</td><td>90.2</td><td>86.8 to 92.8</td><td>559</td></tr>\n",
              "\t<tr><th scope=row>3</th><td>Tetanus        </td><td>≥1 Dose Td or Tdap        </td><td>States/Local Areas</td><td>New York</td><td>2023</td><td>Age</td><td>13-17 Years</td><td>93.6</td><td>90.9 to 95.5</td><td>559</td></tr>\n",
              "\t<tr><th scope=row>4</th><td>≥1 Dose MenACWY</td><td>                          </td><td>States/Local Areas</td><td>New York</td><td>2023</td><td>Age</td><td>13-17 Years</td><td>95.3</td><td>92.7 to 97.0</td><td>559</td></tr>\n",
              "\t<tr><th scope=row>5</th><td>HPV            </td><td>≥1 Dose, Males and Females</td><td>States/Local Areas</td><td>New York</td><td>2023</td><td>Age</td><td>13-17 Years</td><td>79.4</td><td>74.8 to 83.3</td><td>559</td></tr>\n",
              "\t<tr><th scope=row>6</th><td>HPV            </td><td>Up-to-Date, Males         </td><td>States/Local Areas</td><td>New York</td><td>2023</td><td>Age</td><td>13-17 Years</td><td>67.8</td><td>60.8 to 74.2</td><td>289</td></tr>\n",
              "</tbody>\n",
              "</table>\n"
            ],
            "text/markdown": "\nA data.frame: 6 × 10\n\n| <!--/--> | vaccine &lt;chr&gt; | dose &lt;chr&gt; | geography_type &lt;chr&gt; | geography &lt;chr&gt; | year_season &lt;chr&gt; | dimension_type &lt;chr&gt; | dimension &lt;chr&gt; | coverage_estimate &lt;chr&gt; | X_95_ci &lt;chr&gt; | population_sample_size &lt;chr&gt; |\n|---|---|---|---|---|---|---|---|---|---|---|\n| 1 | HPV             | ≥1 Dose, Males             | States/Local Areas | New York | 2023 | Age | 13-17 Years | 81.5 | 75.2 to 86.5 | 289 |\n| 2 | Tetanus         | ≥1 Dose Tdap               | States/Local Areas | New York | 2023 | Age | 13-17 Years | 90.2 | 86.8 to 92.8 | 559 |\n| 3 | Tetanus         | ≥1 Dose Td or Tdap         | States/Local Areas | New York | 2023 | Age | 13-17 Years | 93.6 | 90.9 to 95.5 | 559 |\n| 4 | ≥1 Dose MenACWY | <!----> | States/Local Areas | New York | 2023 | Age | 13-17 Years | 95.3 | 92.7 to 97.0 | 559 |\n| 5 | HPV             | ≥1 Dose, Males and Females | States/Local Areas | New York | 2023 | Age | 13-17 Years | 79.4 | 74.8 to 83.3 | 559 |\n| 6 | HPV             | Up-to-Date, Males          | States/Local Areas | New York | 2023 | Age | 13-17 Years | 67.8 | 60.8 to 74.2 | 289 |\n\n",
            "text/latex": "A data.frame: 6 × 10\n\\begin{tabular}{r|llllllllll}\n  & vaccine & dose & geography\\_type & geography & year\\_season & dimension\\_type & dimension & coverage\\_estimate & X\\_95\\_ci & population\\_sample\\_size\\\\\n  & <chr> & <chr> & <chr> & <chr> & <chr> & <chr> & <chr> & <chr> & <chr> & <chr>\\\\\n\\hline\n\t1 & HPV             & ≥1 Dose, Males             & States/Local Areas & New York & 2023 & Age & 13-17 Years & 81.5 & 75.2 to 86.5 & 289\\\\\n\t2 & Tetanus         & ≥1 Dose Tdap               & States/Local Areas & New York & 2023 & Age & 13-17 Years & 90.2 & 86.8 to 92.8 & 559\\\\\n\t3 & Tetanus         & ≥1 Dose Td or Tdap         & States/Local Areas & New York & 2023 & Age & 13-17 Years & 93.6 & 90.9 to 95.5 & 559\\\\\n\t4 & ≥1 Dose MenACWY &                            & States/Local Areas & New York & 2023 & Age & 13-17 Years & 95.3 & 92.7 to 97.0 & 559\\\\\n\t5 & HPV             & ≥1 Dose, Males and Females & States/Local Areas & New York & 2023 & Age & 13-17 Years & 79.4 & 74.8 to 83.3 & 559\\\\\n\t6 & HPV             & Up-to-Date, Males          & States/Local Areas & New York & 2023 & Age & 13-17 Years & 67.8 & 60.8 to 74.2 & 289\\\\\n\\end{tabular}\n",
            "text/plain": [
              "  vaccine         dose                       geography_type     geography\n",
              "1 HPV             ≥1 Dose, Males             States/Local Areas New York \n",
              "2 Tetanus         ≥1 Dose Tdap               States/Local Areas New York \n",
              "3 Tetanus         ≥1 Dose Td or Tdap         States/Local Areas New York \n",
              "4 ≥1 Dose MenACWY                            States/Local Areas New York \n",
              "5 HPV             ≥1 Dose, Males and Females States/Local Areas New York \n",
              "6 HPV             Up-to-Date, Males          States/Local Areas New York \n",
              "  year_season dimension_type dimension   coverage_estimate X_95_ci     \n",
              "1 2023        Age            13-17 Years 81.5              75.2 to 86.5\n",
              "2 2023        Age            13-17 Years 90.2              86.8 to 92.8\n",
              "3 2023        Age            13-17 Years 93.6              90.9 to 95.5\n",
              "4 2023        Age            13-17 Years 95.3              92.7 to 97.0\n",
              "5 2023        Age            13-17 Years 79.4              74.8 to 83.3\n",
              "6 2023        Age            13-17 Years 67.8              60.8 to 74.2\n",
              "  population_sample_size\n",
              "1 289                   \n",
              "2 559                   \n",
              "3 559                   \n",
              "4 559                   \n",
              "5 559                   \n",
              "6 289                   "
            ]
          },
          "metadata": {}
        }
      ]
    },
    {
      "cell_type": "code",
      "source": [
        "unique(data$vaccine)"
      ],
      "metadata": {
        "colab": {
          "base_uri": "https://localhost:8080/",
          "height": 34
        },
        "id": "_CF-jnHWvdqo",
        "outputId": "9861becf-0405-4a75-dba2-25e012ff84a6"
      },
      "execution_count": 10,
      "outputs": [
        {
          "output_type": "display_data",
          "data": {
            "text/html": [
              "<style>\n",
              ".list-inline {list-style: none; margin:0; padding: 0}\n",
              ".list-inline>li {display: inline-block}\n",
              ".list-inline>li:not(:last-child)::after {content: \"\\00b7\"; padding: 0 .5ex}\n",
              "</style>\n",
              "<ol class=list-inline><li>'HPV'</li><li>'Tetanus'</li><li>'≥1 Dose MenACWY'</li><li>'≥3 Doses HepB'</li><li>'≥2 Doses MMR'</li><li>'Varicella'</li><li>'≥2 Doses Hep A'</li></ol>\n"
            ],
            "text/markdown": "1. 'HPV'\n2. 'Tetanus'\n3. '≥1 Dose MenACWY'\n4. '≥3 Doses HepB'\n5. '≥2 Doses MMR'\n6. 'Varicella'\n7. '≥2 Doses Hep A'\n\n\n",
            "text/latex": "\\begin{enumerate*}\n\\item 'HPV'\n\\item 'Tetanus'\n\\item '≥1 Dose MenACWY'\n\\item '≥3 Doses HepB'\n\\item '≥2 Doses MMR'\n\\item 'Varicella'\n\\item '≥2 Doses Hep A'\n\\end{enumerate*}\n",
            "text/plain": [
              "[1] \"HPV\"             \"Tetanus\"         \"≥1 Dose MenACWY\" \"≥3 Doses HepB\"  \n",
              "[5] \"≥2 Doses MMR\"    \"Varicella\"       \"≥2 Doses Hep A\" "
            ]
          },
          "metadata": {}
        }
      ]
    }
  ]
}